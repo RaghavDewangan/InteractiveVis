{
 "cells": [
  {
   "cell_type": "code",
   "execution_count": 1,
   "id": "3c9ef6da",
   "metadata": {},
   "outputs": [],
   "source": [
    "import pandas as pd"
   ]
  },
  {
   "cell_type": "code",
   "execution_count": 3,
   "id": "b47fe6f9",
   "metadata": {},
   "outputs": [],
   "source": [
    "femActDf = pd.read_csv(\"Mouse_Data_Student_Copy.xlsx - Fem Act.csv\")\n",
    "femTempDf = pd.read_csv(\"Mouse_Data_Student_Copy.xlsx - Fem Temp.csv\")\n",
    "maleActDf = pd.read_csv(\"Mouse_Data_Student_Copy.xlsx - Male Act.csv\")\n",
    "maleTempDf = pd.read_csv(\"Mouse_Data_Student_Copy.xlsx - Male Temp.csv\")"
   ]
  },
  {
   "cell_type": "code",
   "execution_count": null,
   "id": "76f32fc0",
   "metadata": {},
   "outputs": [],
   "source": []
  }
 ],
 "metadata": {
  "kernelspec": {
   "display_name": "dsc80",
   "language": "python",
   "name": "python3"
  },
  "language_info": {
   "codemirror_mode": {
    "name": "ipython",
    "version": 3
   },
   "file_extension": ".py",
   "mimetype": "text/x-python",
   "name": "python",
   "nbconvert_exporter": "python",
   "pygments_lexer": "ipython3",
   "version": "3.12.8"
  }
 },
 "nbformat": 4,
 "nbformat_minor": 5
}
